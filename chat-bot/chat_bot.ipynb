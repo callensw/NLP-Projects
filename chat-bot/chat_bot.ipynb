{
 "cells": [
  {
   "cell_type": "markdown",
   "metadata": {},
   "source": [
    "## Preparing the Data"
   ]
  },
  {
   "cell_type": "code",
   "execution_count": 1,
   "metadata": {},
   "outputs": [],
   "source": [
    "import pickle\n",
    "import numpy as np"
   ]
  },
  {
   "cell_type": "code",
   "execution_count": 2,
   "metadata": {},
   "outputs": [],
   "source": [
    "with open(\"train_qa.txt\", \"rb\") as fp:   # Unpickling\n",
    "    train_data =  pickle.load(fp)"
   ]
  },
  {
   "cell_type": "code",
   "execution_count": 3,
   "metadata": {},
   "outputs": [],
   "source": [
    "with open(\"test_qa.txt\", \"rb\") as fp:   # Unpickling\n",
    "    test_data =  pickle.load(fp)"
   ]
  },
  {
   "cell_type": "markdown",
   "metadata": {},
   "source": [
    "## Exploring the Data"
   ]
  },
  {
   "cell_type": "code",
   "execution_count": 4,
   "metadata": {
    "scrolled": true
   },
   "outputs": [
    {
     "data": {
      "text/plain": [
       "list"
      ]
     },
     "execution_count": 4,
     "metadata": {},
     "output_type": "execute_result"
    }
   ],
   "source": [
    "type(test_data)"
   ]
  },
  {
   "cell_type": "code",
   "execution_count": 5,
   "metadata": {},
   "outputs": [
    {
     "data": {
      "text/plain": [
       "list"
      ]
     },
     "execution_count": 5,
     "metadata": {},
     "output_type": "execute_result"
    }
   ],
   "source": [
    "type(train_data)"
   ]
  },
  {
   "cell_type": "code",
   "execution_count": 6,
   "metadata": {},
   "outputs": [
    {
     "data": {
      "text/plain": [
       "1000"
      ]
     },
     "execution_count": 6,
     "metadata": {},
     "output_type": "execute_result"
    }
   ],
   "source": [
    "len(test_data)"
   ]
  },
  {
   "cell_type": "code",
   "execution_count": 7,
   "metadata": {},
   "outputs": [
    {
     "data": {
      "text/plain": [
       "10000"
      ]
     },
     "execution_count": 7,
     "metadata": {},
     "output_type": "execute_result"
    }
   ],
   "source": [
    "len(train_data)"
   ]
  },
  {
   "cell_type": "code",
   "execution_count": 8,
   "metadata": {},
   "outputs": [
    {
     "data": {
      "text/plain": [
       "(['Mary',\n",
       "  'moved',\n",
       "  'to',\n",
       "  'the',\n",
       "  'bathroom',\n",
       "  '.',\n",
       "  'Sandra',\n",
       "  'journeyed',\n",
       "  'to',\n",
       "  'the',\n",
       "  'bedroom',\n",
       "  '.'],\n",
       " ['Is', 'Sandra', 'in', 'the', 'hallway', '?'],\n",
       " 'no')"
      ]
     },
     "execution_count": 8,
     "metadata": {},
     "output_type": "execute_result"
    }
   ],
   "source": [
    "train_data[0]"
   ]
  },
  {
   "cell_type": "code",
   "execution_count": 9,
   "metadata": {},
   "outputs": [
    {
     "data": {
      "text/plain": [
       "'Mary moved to the bathroom . Sandra journeyed to the bedroom .'"
      ]
     },
     "execution_count": 9,
     "metadata": {},
     "output_type": "execute_result"
    }
   ],
   "source": [
    "' '.join(train_data[0][0])"
   ]
  },
  {
   "cell_type": "code",
   "execution_count": 10,
   "metadata": {},
   "outputs": [
    {
     "data": {
      "text/plain": [
       "'Is Sandra in the hallway ?'"
      ]
     },
     "execution_count": 10,
     "metadata": {},
     "output_type": "execute_result"
    }
   ],
   "source": [
    "' '.join(train_data[0][1])"
   ]
  },
  {
   "cell_type": "code",
   "execution_count": 11,
   "metadata": {},
   "outputs": [
    {
     "data": {
      "text/plain": [
       "'no'"
      ]
     },
     "execution_count": 11,
     "metadata": {},
     "output_type": "execute_result"
    }
   ],
   "source": [
    "train_data[0][2]"
   ]
  },
  {
   "cell_type": "markdown",
   "metadata": {},
   "source": [
    "-----\n",
    "\n",
    "## Setting up Vocabulary of All Words"
   ]
  },
  {
   "cell_type": "code",
   "execution_count": 12,
   "metadata": {},
   "outputs": [],
   "source": [
    "# Create a set that holds the vocab words\n",
    "vocab = set()"
   ]
  },
  {
   "cell_type": "code",
   "execution_count": 13,
   "metadata": {},
   "outputs": [],
   "source": [
    "all_data = test_data + train_data"
   ]
  },
  {
   "cell_type": "code",
   "execution_count": 14,
   "metadata": {},
   "outputs": [],
   "source": [
    "for story, question , answer in all_data:\n",
    "    # In case you don't know what a union of sets is:\n",
    "    # https://www.programiz.com/python-programming/methods/set/union\n",
    "    vocab = vocab.union(set(story))\n",
    "    vocab = vocab.union(set(question))"
   ]
  },
  {
   "cell_type": "code",
   "execution_count": 15,
   "metadata": {},
   "outputs": [],
   "source": [
    "vocab.add('no')\n",
    "vocab.add('yes')"
   ]
  },
  {
   "cell_type": "code",
   "execution_count": 16,
   "metadata": {},
   "outputs": [
    {
     "data": {
      "text/plain": [
       "{'.',\n",
       " '?',\n",
       " 'Daniel',\n",
       " 'Is',\n",
       " 'John',\n",
       " 'Mary',\n",
       " 'Sandra',\n",
       " 'apple',\n",
       " 'back',\n",
       " 'bathroom',\n",
       " 'bedroom',\n",
       " 'discarded',\n",
       " 'down',\n",
       " 'dropped',\n",
       " 'football',\n",
       " 'garden',\n",
       " 'got',\n",
       " 'grabbed',\n",
       " 'hallway',\n",
       " 'in',\n",
       " 'journeyed',\n",
       " 'kitchen',\n",
       " 'left',\n",
       " 'milk',\n",
       " 'moved',\n",
       " 'no',\n",
       " 'office',\n",
       " 'picked',\n",
       " 'put',\n",
       " 'the',\n",
       " 'there',\n",
       " 'to',\n",
       " 'took',\n",
       " 'travelled',\n",
       " 'up',\n",
       " 'went',\n",
       " 'yes'}"
      ]
     },
     "execution_count": 16,
     "metadata": {},
     "output_type": "execute_result"
    }
   ],
   "source": [
    "vocab"
   ]
  },
  {
   "cell_type": "code",
   "execution_count": 17,
   "metadata": {},
   "outputs": [],
   "source": [
    "vocab_len = len(vocab) + 1 #we add an extra space to hold a 0 for Keras's pad_sequences"
   ]
  },
  {
   "cell_type": "code",
   "execution_count": 18,
   "metadata": {},
   "outputs": [],
   "source": [
    "max_story_len = max([len(data[0]) for data in all_data])"
   ]
  },
  {
   "cell_type": "code",
   "execution_count": 19,
   "metadata": {},
   "outputs": [
    {
     "data": {
      "text/plain": [
       "156"
      ]
     },
     "execution_count": 19,
     "metadata": {},
     "output_type": "execute_result"
    }
   ],
   "source": [
    "max_story_len"
   ]
  },
  {
   "cell_type": "code",
   "execution_count": 20,
   "metadata": {},
   "outputs": [],
   "source": [
    "max_question_len = max([len(data[1]) for data in all_data])"
   ]
  },
  {
   "cell_type": "code",
   "execution_count": 21,
   "metadata": {},
   "outputs": [
    {
     "data": {
      "text/plain": [
       "6"
      ]
     },
     "execution_count": 21,
     "metadata": {},
     "output_type": "execute_result"
    }
   ],
   "source": [
    "max_question_len"
   ]
  },
  {
   "cell_type": "markdown",
   "metadata": {},
   "source": [
    "## Vectorizing the Data"
   ]
  },
  {
   "cell_type": "code",
   "execution_count": 22,
   "metadata": {},
   "outputs": [
    {
     "data": {
      "text/plain": [
       "{'.',\n",
       " '?',\n",
       " 'Daniel',\n",
       " 'Is',\n",
       " 'John',\n",
       " 'Mary',\n",
       " 'Sandra',\n",
       " 'apple',\n",
       " 'back',\n",
       " 'bathroom',\n",
       " 'bedroom',\n",
       " 'discarded',\n",
       " 'down',\n",
       " 'dropped',\n",
       " 'football',\n",
       " 'garden',\n",
       " 'got',\n",
       " 'grabbed',\n",
       " 'hallway',\n",
       " 'in',\n",
       " 'journeyed',\n",
       " 'kitchen',\n",
       " 'left',\n",
       " 'milk',\n",
       " 'moved',\n",
       " 'no',\n",
       " 'office',\n",
       " 'picked',\n",
       " 'put',\n",
       " 'the',\n",
       " 'there',\n",
       " 'to',\n",
       " 'took',\n",
       " 'travelled',\n",
       " 'up',\n",
       " 'went',\n",
       " 'yes'}"
      ]
     },
     "execution_count": 22,
     "metadata": {},
     "output_type": "execute_result"
    }
   ],
   "source": [
    "vocab"
   ]
  },
  {
   "cell_type": "code",
   "execution_count": 23,
   "metadata": {},
   "outputs": [],
   "source": [
    "# Reserve 0 for pad_sequences\n",
    "vocab_size = len(vocab) + 1"
   ]
  },
  {
   "cell_type": "markdown",
   "metadata": {},
   "source": [
    "-----------"
   ]
  },
  {
   "cell_type": "code",
   "execution_count": 29,
   "metadata": {
    "scrolled": true
   },
   "outputs": [],
   "source": [
    "from keras.preprocessing.sequence import pad_sequences\n",
    "from keras.preprocessing.text import Tokenizer"
   ]
  },
  {
   "cell_type": "code",
   "execution_count": 30,
   "metadata": {},
   "outputs": [],
   "source": [
    "# integer encode sequences of words\n",
    "tokenizer = Tokenizer(filters=[])\n",
    "tokenizer.fit_on_texts(vocab)"
   ]
  },
  {
   "cell_type": "code",
   "execution_count": 31,
   "metadata": {},
   "outputs": [
    {
     "data": {
      "text/plain": [
       "{'up': 1,\n",
       " 'bedroom': 2,\n",
       " 'discarded': 3,\n",
       " 'sandra': 4,\n",
       " 'journeyed': 5,\n",
       " '?': 6,\n",
       " 'hallway': 7,\n",
       " 'picked': 8,\n",
       " 'mary': 9,\n",
       " 'went': 10,\n",
       " 'put': 11,\n",
       " 'bathroom': 12,\n",
       " 'moved': 13,\n",
       " 'yes': 14,\n",
       " 'dropped': 15,\n",
       " 'there': 16,\n",
       " 'daniel': 17,\n",
       " 'football': 18,\n",
       " 'to': 19,\n",
       " 'no': 20,\n",
       " 'the': 21,\n",
       " 'milk': 22,\n",
       " 'office': 23,\n",
       " 'kitchen': 24,\n",
       " 'is': 25,\n",
       " 'in': 26,\n",
       " 'john': 27,\n",
       " 'back': 28,\n",
       " 'took': 29,\n",
       " 'garden': 30,\n",
       " 'travelled': 31,\n",
       " 'left': 32,\n",
       " 'got': 33,\n",
       " 'grabbed': 34,\n",
       " 'apple': 35,\n",
       " 'down': 36,\n",
       " '.': 37}"
      ]
     },
     "execution_count": 31,
     "metadata": {},
     "output_type": "execute_result"
    }
   ],
   "source": [
    "tokenizer.word_index"
   ]
  },
  {
   "cell_type": "code",
   "execution_count": 32,
   "metadata": {},
   "outputs": [],
   "source": [
    "train_story_text = []\n",
    "train_question_text = []\n",
    "train_answers = []\n",
    "\n",
    "for story,question,answer in train_data:\n",
    "    train_story_text.append(story)\n",
    "    train_question_text.append(question)"
   ]
  },
  {
   "cell_type": "code",
   "execution_count": 33,
   "metadata": {},
   "outputs": [],
   "source": [
    "train_story_seq = tokenizer.texts_to_sequences(train_story_text)"
   ]
  },
  {
   "cell_type": "code",
   "execution_count": 34,
   "metadata": {},
   "outputs": [
    {
     "data": {
      "text/plain": [
       "10000"
      ]
     },
     "execution_count": 34,
     "metadata": {},
     "output_type": "execute_result"
    }
   ],
   "source": [
    "len(train_story_text)"
   ]
  },
  {
   "cell_type": "code",
   "execution_count": 35,
   "metadata": {},
   "outputs": [
    {
     "data": {
      "text/plain": [
       "10000"
      ]
     },
     "execution_count": 35,
     "metadata": {},
     "output_type": "execute_result"
    }
   ],
   "source": [
    "len(train_story_seq)"
   ]
  },
  {
   "cell_type": "code",
   "execution_count": 36,
   "metadata": {},
   "outputs": [],
   "source": [
    "# word_index = tokenizer.word_index"
   ]
  },
  {
   "cell_type": "markdown",
   "metadata": {},
   "source": [
    "### Functionalize Vectorization"
   ]
  },
  {
   "cell_type": "code",
   "execution_count": 37,
   "metadata": {},
   "outputs": [],
   "source": [
    "def vectorize_stories(data, word_index=tokenizer.word_index, max_story_len=max_story_len,max_question_len=max_question_len):\n",
    "    '''\n",
    "    INPUT: \n",
    "    \n",
    "    data: consisting of Stories,Queries,and Answers\n",
    "    word_index: word index dictionary from tokenizer\n",
    "    max_story_len: the length of the longest story (used for pad_sequences function)\n",
    "    max_question_len: length of the longest question (used for pad_sequences function)\n",
    "\n",
    "\n",
    "    OUTPUT:\n",
    "    \n",
    "    Vectorizes the stories,questions, and answers into padded sequences. We first loop for every story, query , and\n",
    "    answer in the data. Then we convert the raw words to an word index value. Then we append each set to their appropriate\n",
    "    output list. Then once we have converted the words to numbers, we pad the sequences so they are all of equal length.\n",
    "    \n",
    "    Returns this in the form of a tuple (X,Xq,Y) (padded based on max lengths)\n",
    "    '''\n",
    "    \n",
    "    \n",
    "    # X = STORIES\n",
    "    X = []\n",
    "    # Xq = QUERY/QUESTION\n",
    "    Xq = []\n",
    "    # Y = CORRECT ANSWER\n",
    "    Y = []\n",
    "    \n",
    "    \n",
    "    for story, query, answer in data:\n",
    "        \n",
    "        # Grab the word index for every word in story\n",
    "        x = [word_index[word.lower()] for word in story]\n",
    "        # Grab the word index for every word in query\n",
    "        xq = [word_index[word.lower()] for word in query]\n",
    "        \n",
    "        # Grab the Answers (either Yes/No so we don't need to use list comprehension here)\n",
    "        # Index 0 is reserved so we're going to use + 1\n",
    "        y = np.zeros(len(word_index) + 1)\n",
    "        \n",
    "        # Now that y is all zeros and we know its just Yes/No , we can use numpy logic to create this assignment\n",
    "        #\n",
    "        y[word_index[answer]] = 1\n",
    "        \n",
    "        # Append each set of story,query, and answer to their respective holding lists\n",
    "        X.append(x)\n",
    "        Xq.append(xq)\n",
    "        Y.append(y)\n",
    "        \n",
    "    # Finally, pad the sequences based on their max length so the RNN can be trained on uniformly long sequences.\n",
    "        \n",
    "    # RETURN TUPLE FOR UNPACKING\n",
    "    return (pad_sequences(X, maxlen=max_story_len),pad_sequences(Xq, maxlen=max_question_len), np.array(Y))"
   ]
  },
  {
   "cell_type": "code",
   "execution_count": 38,
   "metadata": {},
   "outputs": [],
   "source": [
    "inputs_train, queries_train, answers_train = vectorize_stories(train_data)"
   ]
  },
  {
   "cell_type": "code",
   "execution_count": 39,
   "metadata": {},
   "outputs": [],
   "source": [
    "inputs_test, queries_test, answers_test = vectorize_stories(test_data)"
   ]
  },
  {
   "cell_type": "code",
   "execution_count": 40,
   "metadata": {},
   "outputs": [
    {
     "data": {
      "text/plain": [
       "array([[ 0,  0,  0, ..., 21,  2, 37],\n",
       "       [ 0,  0,  0, ..., 21, 30, 37],\n",
       "       [ 0,  0,  0, ..., 21, 30, 37],\n",
       "       ...,\n",
       "       [ 0,  0,  0, ..., 21, 35, 37],\n",
       "       [ 0,  0,  0, ..., 21, 30, 37],\n",
       "       [ 0,  0,  0, ..., 35, 16, 37]])"
      ]
     },
     "execution_count": 40,
     "metadata": {},
     "output_type": "execute_result"
    }
   ],
   "source": [
    "inputs_test"
   ]
  },
  {
   "cell_type": "code",
   "execution_count": 41,
   "metadata": {},
   "outputs": [
    {
     "data": {
      "text/plain": [
       "array([[25, 27, 26, 21, 24,  6],\n",
       "       [25, 27, 26, 21, 24,  6],\n",
       "       [25, 27, 26, 21, 30,  6],\n",
       "       ...,\n",
       "       [25,  9, 26, 21,  2,  6],\n",
       "       [25,  4, 26, 21, 30,  6],\n",
       "       [25,  9, 26, 21, 30,  6]])"
      ]
     },
     "execution_count": 41,
     "metadata": {},
     "output_type": "execute_result"
    }
   ],
   "source": [
    "queries_test"
   ]
  },
  {
   "cell_type": "code",
   "execution_count": 42,
   "metadata": {},
   "outputs": [
    {
     "data": {
      "text/plain": [
       "array([[0., 0., 0., ..., 0., 0., 0.],\n",
       "       [0., 0., 0., ..., 0., 0., 0.],\n",
       "       [0., 0., 0., ..., 0., 0., 0.],\n",
       "       ...,\n",
       "       [0., 0., 0., ..., 0., 0., 0.],\n",
       "       [0., 0., 0., ..., 0., 0., 0.],\n",
       "       [0., 0., 0., ..., 0., 0., 0.]])"
      ]
     },
     "execution_count": 42,
     "metadata": {},
     "output_type": "execute_result"
    }
   ],
   "source": [
    "answers_test"
   ]
  },
  {
   "cell_type": "code",
   "execution_count": 43,
   "metadata": {},
   "outputs": [
    {
     "data": {
      "text/plain": [
       "array([  0.,   0.,   0.,   0.,   0.,   0.,   0.,   0.,   0.,   0.,   0.,\n",
       "         0.,   0.,   0., 497.,   0.,   0.,   0.,   0.,   0., 503.,   0.,\n",
       "         0.,   0.,   0.,   0.,   0.,   0.,   0.,   0.,   0.,   0.,   0.,\n",
       "         0.,   0.,   0.,   0.,   0.])"
      ]
     },
     "execution_count": 43,
     "metadata": {},
     "output_type": "execute_result"
    }
   ],
   "source": [
    "sum(answers_test)"
   ]
  },
  {
   "cell_type": "code",
   "execution_count": 44,
   "metadata": {},
   "outputs": [
    {
     "data": {
      "text/plain": [
       "14"
      ]
     },
     "execution_count": 44,
     "metadata": {},
     "output_type": "execute_result"
    }
   ],
   "source": [
    "tokenizer.word_index['yes']"
   ]
  },
  {
   "cell_type": "code",
   "execution_count": 45,
   "metadata": {},
   "outputs": [
    {
     "data": {
      "text/plain": [
       "20"
      ]
     },
     "execution_count": 45,
     "metadata": {},
     "output_type": "execute_result"
    }
   ],
   "source": [
    "tokenizer.word_index['no']"
   ]
  },
  {
   "cell_type": "markdown",
   "metadata": {},
   "source": [
    "## Creating the Model"
   ]
  },
  {
   "cell_type": "code",
   "execution_count": 46,
   "metadata": {},
   "outputs": [],
   "source": [
    "from keras.models import Sequential, Model\n",
    "from keras.layers.embeddings import Embedding\n",
    "from keras.layers import Input, Activation, Dense, Permute, Dropout\n",
    "from keras.layers import add, dot, concatenate\n",
    "from keras.layers import LSTM"
   ]
  },
  {
   "cell_type": "markdown",
   "metadata": {},
   "source": [
    "### Placeholders for Inputs\n"
   ]
  },
  {
   "cell_type": "code",
   "execution_count": 47,
   "metadata": {},
   "outputs": [],
   "source": [
    "input_sequence = Input((max_story_len,))\n",
    "question = Input((max_question_len,))"
   ]
  },
  {
   "cell_type": "markdown",
   "metadata": {},
   "source": [
    "## Encoders\n",
    "\n",
    "### Input Encoder m"
   ]
  },
  {
   "cell_type": "code",
   "execution_count": 48,
   "metadata": {},
   "outputs": [],
   "source": [
    "# Input gets embedded to a sequence of vectors\n",
    "input_encoder_m = Sequential()\n",
    "input_encoder_m.add(Embedding(input_dim=vocab_size,output_dim=64))\n",
    "input_encoder_m.add(Dropout(0.3))\n",
    "\n",
    "# This encoder will output:\n",
    "# (samples, story_maxlen, embedding_dim)"
   ]
  },
  {
   "cell_type": "markdown",
   "metadata": {},
   "source": [
    "### Input Encoder c"
   ]
  },
  {
   "cell_type": "code",
   "execution_count": 49,
   "metadata": {},
   "outputs": [],
   "source": [
    "# embed the input into a sequence of vectors of size query_maxlen\n",
    "input_encoder_c = Sequential()\n",
    "input_encoder_c.add(Embedding(input_dim=vocab_size,output_dim=max_question_len))\n",
    "input_encoder_c.add(Dropout(0.3))\n",
    "# output: (samples, story_maxlen, query_maxlen)"
   ]
  },
  {
   "cell_type": "markdown",
   "metadata": {},
   "source": [
    "### Question Encoder"
   ]
  },
  {
   "cell_type": "code",
   "execution_count": 50,
   "metadata": {},
   "outputs": [],
   "source": [
    "# embed the question into a sequence of vectors\n",
    "question_encoder = Sequential()\n",
    "question_encoder.add(Embedding(input_dim=vocab_size,\n",
    "                               output_dim=64,\n",
    "                               input_length=max_question_len))\n",
    "question_encoder.add(Dropout(0.3))\n",
    "# output: (samples, query_maxlen, embedding_dim)"
   ]
  },
  {
   "cell_type": "markdown",
   "metadata": {},
   "source": [
    "### Encode the Sequences"
   ]
  },
  {
   "cell_type": "code",
   "execution_count": 51,
   "metadata": {},
   "outputs": [],
   "source": [
    "# encode input sequence and questions (which are indices)\n",
    "# to sequences of dense vectors\n",
    "input_encoded_m = input_encoder_m(input_sequence)\n",
    "input_encoded_c = input_encoder_c(input_sequence)\n",
    "question_encoded = question_encoder(question)"
   ]
  },
  {
   "cell_type": "markdown",
   "metadata": {},
   "source": [
    "##### Use dot product to compute the match between first input vector seq and the query"
   ]
  },
  {
   "cell_type": "code",
   "execution_count": 52,
   "metadata": {},
   "outputs": [],
   "source": [
    "# shape: `(samples, story_maxlen, query_maxlen)`\n",
    "match = dot([input_encoded_m, question_encoded], axes=(2, 2))\n",
    "match = Activation('softmax')(match)"
   ]
  },
  {
   "cell_type": "markdown",
   "metadata": {},
   "source": [
    "#### Add this match matrix with the second input vector sequence"
   ]
  },
  {
   "cell_type": "code",
   "execution_count": 53,
   "metadata": {},
   "outputs": [],
   "source": [
    "# add the match matrix with the second input vector sequence\n",
    "response = add([match, input_encoded_c])  # (samples, story_maxlen, query_maxlen)\n",
    "response = Permute((2, 1))(response)  # (samples, query_maxlen, story_maxlen)"
   ]
  },
  {
   "cell_type": "markdown",
   "metadata": {},
   "source": [
    "#### Concatenate"
   ]
  },
  {
   "cell_type": "code",
   "execution_count": 54,
   "metadata": {},
   "outputs": [],
   "source": [
    "# concatenate the match matrix with the question vector sequence\n",
    "answer = concatenate([response, question_encoded])"
   ]
  },
  {
   "cell_type": "code",
   "execution_count": 55,
   "metadata": {},
   "outputs": [
    {
     "data": {
      "text/plain": [
       "<KerasTensor: shape=(None, 6, 220) dtype=float32 (created by layer 'concatenate')>"
      ]
     },
     "execution_count": 55,
     "metadata": {},
     "output_type": "execute_result"
    }
   ],
   "source": [
    "answer"
   ]
  },
  {
   "cell_type": "code",
   "execution_count": 56,
   "metadata": {},
   "outputs": [],
   "source": [
    "# Reduce with RNN (LSTM)\n",
    "answer = LSTM(32)(answer)  # (samples, 32)"
   ]
  },
  {
   "cell_type": "code",
   "execution_count": 57,
   "metadata": {},
   "outputs": [],
   "source": [
    "# Regularization with Dropout\n",
    "answer = Dropout(0.5)(answer)\n",
    "answer = Dense(vocab_size)(answer)  # (samples, vocab_size)"
   ]
  },
  {
   "cell_type": "code",
   "execution_count": 58,
   "metadata": {},
   "outputs": [],
   "source": [
    "# output a probability distribution over the vocabulary\n",
    "answer = Activation('softmax')(answer)\n",
    "\n",
    "# build the final model\n",
    "model = Model([input_sequence, question], answer)\n",
    "model.compile(optimizer='rmsprop', loss='categorical_crossentropy',\n",
    "              metrics=['accuracy'])"
   ]
  },
  {
   "cell_type": "code",
   "execution_count": 59,
   "metadata": {},
   "outputs": [
    {
     "name": "stdout",
     "output_type": "stream",
     "text": [
      "Model: \"model\"\n",
      "__________________________________________________________________________________________________\n",
      " Layer (type)                   Output Shape         Param #     Connected to                     \n",
      "==================================================================================================\n",
      " input_1 (InputLayer)           [(None, 156)]        0           []                               \n",
      "                                                                                                  \n",
      " input_2 (InputLayer)           [(None, 6)]          0           []                               \n",
      "                                                                                                  \n",
      " sequential (Sequential)        (None, None, 64)     2432        ['input_1[0][0]']                \n",
      "                                                                                                  \n",
      " sequential_2 (Sequential)      (None, 6, 64)        2432        ['input_2[0][0]']                \n",
      "                                                                                                  \n",
      " dot (Dot)                      (None, 156, 6)       0           ['sequential[0][0]',             \n",
      "                                                                  'sequential_2[0][0]']           \n",
      "                                                                                                  \n",
      " activation (Activation)        (None, 156, 6)       0           ['dot[0][0]']                    \n",
      "                                                                                                  \n",
      " sequential_1 (Sequential)      (None, None, 6)      228         ['input_1[0][0]']                \n",
      "                                                                                                  \n",
      " add (Add)                      (None, 156, 6)       0           ['activation[0][0]',             \n",
      "                                                                  'sequential_1[0][0]']           \n",
      "                                                                                                  \n",
      " permute (Permute)              (None, 6, 156)       0           ['add[0][0]']                    \n",
      "                                                                                                  \n",
      " concatenate (Concatenate)      (None, 6, 220)       0           ['permute[0][0]',                \n",
      "                                                                  'sequential_2[0][0]']           \n",
      "                                                                                                  \n",
      " lstm (LSTM)                    (None, 32)           32384       ['concatenate[0][0]']            \n",
      "                                                                                                  \n",
      " dropout_3 (Dropout)            (None, 32)           0           ['lstm[0][0]']                   \n",
      "                                                                                                  \n",
      " dense (Dense)                  (None, 38)           1254        ['dropout_3[0][0]']              \n",
      "                                                                                                  \n",
      " activation_1 (Activation)      (None, 38)           0           ['dense[0][0]']                  \n",
      "                                                                                                  \n",
      "==================================================================================================\n",
      "Total params: 38,730\n",
      "Trainable params: 38,730\n",
      "Non-trainable params: 0\n",
      "__________________________________________________________________________________________________\n"
     ]
    }
   ],
   "source": [
    "model.summary()"
   ]
  },
  {
   "cell_type": "code",
   "execution_count": 60,
   "metadata": {},
   "outputs": [
    {
     "name": "stdout",
     "output_type": "stream",
     "text": [
      "Epoch 1/120\n",
      "313/313 [==============================] - 7s 14ms/step - loss: 0.9037 - accuracy: 0.4914 - val_loss: 0.6943 - val_accuracy: 0.5030\n",
      "Epoch 2/120\n",
      "313/313 [==============================] - 4s 13ms/step - loss: 0.7018 - accuracy: 0.5074 - val_loss: 0.6933 - val_accuracy: 0.4970\n",
      "Epoch 3/120\n",
      "313/313 [==============================] - 4s 13ms/step - loss: 0.6953 - accuracy: 0.4993 - val_loss: 0.6942 - val_accuracy: 0.5030\n",
      "Epoch 4/120\n",
      "313/313 [==============================] - 5s 15ms/step - loss: 0.6957 - accuracy: 0.4976 - val_loss: 0.6932 - val_accuracy: 0.4970\n",
      "Epoch 5/120\n",
      "313/313 [==============================] - 5s 17ms/step - loss: 0.6946 - accuracy: 0.4976 - val_loss: 0.6941 - val_accuracy: 0.4970\n",
      "Epoch 6/120\n",
      "313/313 [==============================] - 5s 17ms/step - loss: 0.6947 - accuracy: 0.4968 - val_loss: 0.6935 - val_accuracy: 0.5030\n",
      "Epoch 7/120\n",
      "313/313 [==============================] - 5s 17ms/step - loss: 0.6951 - accuracy: 0.4946 - val_loss: 0.6932 - val_accuracy: 0.5030\n",
      "Epoch 8/120\n",
      "313/313 [==============================] - 6s 19ms/step - loss: 0.6947 - accuracy: 0.4903 - val_loss: 0.6936 - val_accuracy: 0.4970\n",
      "Epoch 9/120\n",
      "313/313 [==============================] - 5s 17ms/step - loss: 0.6948 - accuracy: 0.4876 - val_loss: 0.6943 - val_accuracy: 0.4970\n",
      "Epoch 10/120\n",
      "313/313 [==============================] - 5s 16ms/step - loss: 0.6938 - accuracy: 0.5058 - val_loss: 0.6945 - val_accuracy: 0.4520\n",
      "Epoch 11/120\n",
      "313/313 [==============================] - 5s 15ms/step - loss: 0.6924 - accuracy: 0.5126 - val_loss: 0.6971 - val_accuracy: 0.4970\n",
      "Epoch 12/120\n",
      "313/313 [==============================] - 5s 15ms/step - loss: 0.6865 - accuracy: 0.5365 - val_loss: 0.6862 - val_accuracy: 0.5440\n",
      "Epoch 13/120\n",
      "313/313 [==============================] - 5s 15ms/step - loss: 0.6717 - accuracy: 0.5716 - val_loss: 0.6567 - val_accuracy: 0.6400\n",
      "Epoch 14/120\n",
      "313/313 [==============================] - 6s 18ms/step - loss: 0.6458 - accuracy: 0.6314 - val_loss: 0.6177 - val_accuracy: 0.6650\n",
      "Epoch 15/120\n",
      "313/313 [==============================] - 5s 17ms/step - loss: 0.6229 - accuracy: 0.6553 - val_loss: 0.5983 - val_accuracy: 0.6820\n",
      "Epoch 16/120\n",
      "313/313 [==============================] - 5s 16ms/step - loss: 0.5976 - accuracy: 0.6843 - val_loss: 0.5616 - val_accuracy: 0.7230\n",
      "Epoch 17/120\n",
      "313/313 [==============================] - 5s 15ms/step - loss: 0.5656 - accuracy: 0.7073 - val_loss: 0.5525 - val_accuracy: 0.7230\n",
      "Epoch 18/120\n",
      "313/313 [==============================] - 5s 15ms/step - loss: 0.5389 - accuracy: 0.7328 - val_loss: 0.4828 - val_accuracy: 0.7770\n",
      "Epoch 19/120\n",
      "313/313 [==============================] - 5s 16ms/step - loss: 0.5075 - accuracy: 0.7582 - val_loss: 0.4658 - val_accuracy: 0.7880\n",
      "Epoch 20/120\n",
      "313/313 [==============================] - 5s 17ms/step - loss: 0.4906 - accuracy: 0.7695 - val_loss: 0.4402 - val_accuracy: 0.8000\n",
      "Epoch 21/120\n",
      "313/313 [==============================] - 6s 19ms/step - loss: 0.4794 - accuracy: 0.7794 - val_loss: 0.4382 - val_accuracy: 0.8090\n",
      "Epoch 22/120\n",
      "313/313 [==============================] - 5s 17ms/step - loss: 0.4643 - accuracy: 0.7878 - val_loss: 0.4282 - val_accuracy: 0.8140\n",
      "Epoch 23/120\n",
      "313/313 [==============================] - 5s 17ms/step - loss: 0.4549 - accuracy: 0.7940 - val_loss: 0.4351 - val_accuracy: 0.8040\n",
      "Epoch 24/120\n",
      "313/313 [==============================] - 5s 16ms/step - loss: 0.4430 - accuracy: 0.7988 - val_loss: 0.4125 - val_accuracy: 0.8040\n",
      "Epoch 25/120\n",
      "313/313 [==============================] - 5s 16ms/step - loss: 0.4258 - accuracy: 0.8116 - val_loss: 0.4183 - val_accuracy: 0.8090\n",
      "Epoch 26/120\n",
      "313/313 [==============================] - 5s 16ms/step - loss: 0.4204 - accuracy: 0.8158 - val_loss: 0.4099 - val_accuracy: 0.8130\n",
      "Epoch 27/120\n",
      "313/313 [==============================] - 5s 16ms/step - loss: 0.4048 - accuracy: 0.8195 - val_loss: 0.3984 - val_accuracy: 0.8190\n",
      "Epoch 28/120\n",
      "313/313 [==============================] - 5s 15ms/step - loss: 0.4035 - accuracy: 0.8235 - val_loss: 0.4161 - val_accuracy: 0.8090\n",
      "Epoch 29/120\n",
      "313/313 [==============================] - 5s 16ms/step - loss: 0.3963 - accuracy: 0.8272 - val_loss: 0.3903 - val_accuracy: 0.8230\n",
      "Epoch 30/120\n",
      "313/313 [==============================] - 5s 16ms/step - loss: 0.3908 - accuracy: 0.8310 - val_loss: 0.3952 - val_accuracy: 0.8260\n",
      "Epoch 31/120\n",
      "313/313 [==============================] - 5s 16ms/step - loss: 0.3869 - accuracy: 0.8327 - val_loss: 0.3841 - val_accuracy: 0.8240\n",
      "Epoch 32/120\n",
      "313/313 [==============================] - 5s 17ms/step - loss: 0.3850 - accuracy: 0.8285 - val_loss: 0.3959 - val_accuracy: 0.8100\n",
      "Epoch 33/120\n",
      "313/313 [==============================] - 5s 16ms/step - loss: 0.3771 - accuracy: 0.8365 - val_loss: 0.3799 - val_accuracy: 0.8200\n",
      "Epoch 34/120\n",
      "313/313 [==============================] - 5s 15ms/step - loss: 0.3694 - accuracy: 0.8417 - val_loss: 0.3788 - val_accuracy: 0.8160\n",
      "Epoch 35/120\n",
      "313/313 [==============================] - 5s 15ms/step - loss: 0.3667 - accuracy: 0.8407 - val_loss: 0.3800 - val_accuracy: 0.8210\n",
      "Epoch 36/120\n",
      "313/313 [==============================] - 5s 15ms/step - loss: 0.3635 - accuracy: 0.8437 - val_loss: 0.3805 - val_accuracy: 0.8210\n",
      "Epoch 37/120\n",
      "313/313 [==============================] - 5s 15ms/step - loss: 0.3552 - accuracy: 0.8472 - val_loss: 0.3926 - val_accuracy: 0.8170\n",
      "Epoch 38/120\n",
      "313/313 [==============================] - 5s 16ms/step - loss: 0.3596 - accuracy: 0.8441 - val_loss: 0.3737 - val_accuracy: 0.8270\n",
      "Epoch 39/120\n",
      "313/313 [==============================] - 5s 18ms/step - loss: 0.3420 - accuracy: 0.8536 - val_loss: 0.3798 - val_accuracy: 0.8260\n",
      "Epoch 40/120\n",
      "313/313 [==============================] - 4s 14ms/step - loss: 0.3482 - accuracy: 0.8494 - val_loss: 0.3823 - val_accuracy: 0.8230\n",
      "Epoch 41/120\n",
      "313/313 [==============================] - 4s 14ms/step - loss: 0.3470 - accuracy: 0.8537 - val_loss: 0.3756 - val_accuracy: 0.8360\n",
      "Epoch 42/120\n",
      "313/313 [==============================] - 5s 15ms/step - loss: 0.3452 - accuracy: 0.8513 - val_loss: 0.3701 - val_accuracy: 0.8300\n",
      "Epoch 43/120\n",
      "313/313 [==============================] - 4s 14ms/step - loss: 0.3368 - accuracy: 0.8526 - val_loss: 0.3787 - val_accuracy: 0.8300\n",
      "Epoch 44/120\n",
      "313/313 [==============================] - 4s 14ms/step - loss: 0.3385 - accuracy: 0.8590 - val_loss: 0.3658 - val_accuracy: 0.8270\n",
      "Epoch 45/120\n",
      "313/313 [==============================] - 4s 14ms/step - loss: 0.3293 - accuracy: 0.8587 - val_loss: 0.3714 - val_accuracy: 0.8210\n",
      "Epoch 46/120\n",
      "313/313 [==============================] - 4s 14ms/step - loss: 0.3307 - accuracy: 0.8567 - val_loss: 0.3795 - val_accuracy: 0.8270\n",
      "Epoch 47/120\n",
      "313/313 [==============================] - 4s 14ms/step - loss: 0.3265 - accuracy: 0.8583 - val_loss: 0.3678 - val_accuracy: 0.8300\n",
      "Epoch 48/120\n",
      "313/313 [==============================] - 4s 14ms/step - loss: 0.3194 - accuracy: 0.8625 - val_loss: 0.4005 - val_accuracy: 0.8020\n",
      "Epoch 49/120\n",
      "313/313 [==============================] - 5s 15ms/step - loss: 0.3254 - accuracy: 0.8582 - val_loss: 0.3542 - val_accuracy: 0.8310\n",
      "Epoch 50/120\n",
      "313/313 [==============================] - 5s 16ms/step - loss: 0.3228 - accuracy: 0.8625 - val_loss: 0.3676 - val_accuracy: 0.8330\n",
      "Epoch 51/120\n",
      "313/313 [==============================] - 5s 16ms/step - loss: 0.3200 - accuracy: 0.8679 - val_loss: 0.3624 - val_accuracy: 0.8340\n",
      "Epoch 52/120\n",
      "313/313 [==============================] - 5s 17ms/step - loss: 0.3107 - accuracy: 0.8683 - val_loss: 0.3697 - val_accuracy: 0.8330\n",
      "Epoch 53/120\n",
      "313/313 [==============================] - 5s 16ms/step - loss: 0.3124 - accuracy: 0.8654 - val_loss: 0.3906 - val_accuracy: 0.8300\n",
      "Epoch 54/120\n",
      "313/313 [==============================] - 5s 15ms/step - loss: 0.3092 - accuracy: 0.8681 - val_loss: 0.3655 - val_accuracy: 0.8190\n",
      "Epoch 55/120\n",
      "313/313 [==============================] - 5s 15ms/step - loss: 0.3076 - accuracy: 0.8697 - val_loss: 0.3620 - val_accuracy: 0.8270\n",
      "Epoch 56/120\n",
      "313/313 [==============================] - 6s 18ms/step - loss: 0.3033 - accuracy: 0.8711 - val_loss: 0.3725 - val_accuracy: 0.8310\n",
      "Epoch 57/120\n"
     ]
    },
    {
     "name": "stdout",
     "output_type": "stream",
     "text": [
      "313/313 [==============================] - 5s 15ms/step - loss: 0.3012 - accuracy: 0.8717 - val_loss: 0.3803 - val_accuracy: 0.8170\n",
      "Epoch 58/120\n",
      "313/313 [==============================] - 5s 15ms/step - loss: 0.3049 - accuracy: 0.8679 - val_loss: 0.3866 - val_accuracy: 0.8320\n",
      "Epoch 59/120\n",
      "313/313 [==============================] - 5s 16ms/step - loss: 0.3023 - accuracy: 0.8716 - val_loss: 0.3893 - val_accuracy: 0.8360\n",
      "Epoch 60/120\n",
      "313/313 [==============================] - 5s 16ms/step - loss: 0.2985 - accuracy: 0.8717 - val_loss: 0.3733 - val_accuracy: 0.8280\n",
      "Epoch 61/120\n",
      "313/313 [==============================] - 5s 15ms/step - loss: 0.3001 - accuracy: 0.8701 - val_loss: 0.3812 - val_accuracy: 0.8330\n",
      "Epoch 62/120\n",
      "313/313 [==============================] - 5s 17ms/step - loss: 0.2916 - accuracy: 0.8779 - val_loss: 0.3745 - val_accuracy: 0.8220\n",
      "Epoch 63/120\n",
      "313/313 [==============================] - 5s 17ms/step - loss: 0.2982 - accuracy: 0.8727 - val_loss: 0.3752 - val_accuracy: 0.8290\n",
      "Epoch 64/120\n",
      "313/313 [==============================] - 5s 15ms/step - loss: 0.2947 - accuracy: 0.8744 - val_loss: 0.3658 - val_accuracy: 0.8340\n",
      "Epoch 65/120\n",
      "313/313 [==============================] - 4s 13ms/step - loss: 0.2850 - accuracy: 0.8775 - val_loss: 0.3668 - val_accuracy: 0.8320\n",
      "Epoch 66/120\n",
      "313/313 [==============================] - 4s 13ms/step - loss: 0.2863 - accuracy: 0.8782 - val_loss: 0.3697 - val_accuracy: 0.8210\n",
      "Epoch 67/120\n",
      "313/313 [==============================] - 4s 13ms/step - loss: 0.2853 - accuracy: 0.8768 - val_loss: 0.3757 - val_accuracy: 0.8350\n",
      "Epoch 68/120\n",
      "313/313 [==============================] - 4s 14ms/step - loss: 0.2842 - accuracy: 0.8797 - val_loss: 0.3766 - val_accuracy: 0.8340\n",
      "Epoch 69/120\n",
      "313/313 [==============================] - 4s 13ms/step - loss: 0.2865 - accuracy: 0.8811 - val_loss: 0.3828 - val_accuracy: 0.8260\n",
      "Epoch 70/120\n",
      "313/313 [==============================] - 4s 13ms/step - loss: 0.2822 - accuracy: 0.8768 - val_loss: 0.3836 - val_accuracy: 0.8240\n",
      "Epoch 71/120\n",
      "313/313 [==============================] - 4s 14ms/step - loss: 0.2807 - accuracy: 0.8824 - val_loss: 0.3907 - val_accuracy: 0.8280\n",
      "Epoch 72/120\n",
      "313/313 [==============================] - 4s 13ms/step - loss: 0.2769 - accuracy: 0.8782 - val_loss: 0.4123 - val_accuracy: 0.8190\n",
      "Epoch 73/120\n",
      "313/313 [==============================] - 4s 13ms/step - loss: 0.2752 - accuracy: 0.8824 - val_loss: 0.3843 - val_accuracy: 0.8330\n",
      "Epoch 74/120\n",
      "313/313 [==============================] - 4s 13ms/step - loss: 0.2716 - accuracy: 0.8820 - val_loss: 0.3894 - val_accuracy: 0.8150\n",
      "Epoch 75/120\n",
      "313/313 [==============================] - 4s 13ms/step - loss: 0.2767 - accuracy: 0.8819 - val_loss: 0.3920 - val_accuracy: 0.8290\n",
      "Epoch 76/120\n",
      "313/313 [==============================] - 4s 13ms/step - loss: 0.2686 - accuracy: 0.8865 - val_loss: 0.3919 - val_accuracy: 0.8340\n",
      "Epoch 77/120\n",
      "313/313 [==============================] - 4s 13ms/step - loss: 0.2686 - accuracy: 0.8848 - val_loss: 0.3883 - val_accuracy: 0.8340\n",
      "Epoch 78/120\n",
      "313/313 [==============================] - 5s 16ms/step - loss: 0.2689 - accuracy: 0.8823 - val_loss: 0.3998 - val_accuracy: 0.8350\n",
      "Epoch 79/120\n",
      "313/313 [==============================] - 5s 16ms/step - loss: 0.2653 - accuracy: 0.8840 - val_loss: 0.4107 - val_accuracy: 0.8370\n",
      "Epoch 80/120\n",
      "313/313 [==============================] - 5s 17ms/step - loss: 0.2620 - accuracy: 0.8891 - val_loss: 0.4094 - val_accuracy: 0.8330\n",
      "Epoch 81/120\n",
      "313/313 [==============================] - 4s 13ms/step - loss: 0.2715 - accuracy: 0.8842 - val_loss: 0.4156 - val_accuracy: 0.8130\n",
      "Epoch 82/120\n",
      "313/313 [==============================] - 4s 13ms/step - loss: 0.2574 - accuracy: 0.8900 - val_loss: 0.4115 - val_accuracy: 0.8320\n",
      "Epoch 83/120\n",
      "313/313 [==============================] - 6s 18ms/step - loss: 0.2571 - accuracy: 0.8891 - val_loss: 0.3995 - val_accuracy: 0.8200\n",
      "Epoch 84/120\n",
      "313/313 [==============================] - 6s 18ms/step - loss: 0.2621 - accuracy: 0.8881 - val_loss: 0.4092 - val_accuracy: 0.8370\n",
      "Epoch 85/120\n",
      "313/313 [==============================] - 6s 18ms/step - loss: 0.2541 - accuracy: 0.8926 - val_loss: 0.4282 - val_accuracy: 0.8290\n",
      "Epoch 86/120\n",
      "313/313 [==============================] - 5s 15ms/step - loss: 0.2543 - accuracy: 0.8929 - val_loss: 0.4294 - val_accuracy: 0.8240\n",
      "Epoch 87/120\n",
      "313/313 [==============================] - 5s 15ms/step - loss: 0.2545 - accuracy: 0.8866 - val_loss: 0.4078 - val_accuracy: 0.8330\n",
      "Epoch 88/120\n",
      "313/313 [==============================] - 4s 13ms/step - loss: 0.2521 - accuracy: 0.8920 - val_loss: 0.4221 - val_accuracy: 0.8360\n",
      "Epoch 89/120\n",
      "313/313 [==============================] - 4s 14ms/step - loss: 0.2510 - accuracy: 0.8927 - val_loss: 0.4266 - val_accuracy: 0.8190\n",
      "Epoch 90/120\n",
      "313/313 [==============================] - 4s 13ms/step - loss: 0.2509 - accuracy: 0.8939 - val_loss: 0.4065 - val_accuracy: 0.8250\n",
      "Epoch 91/120\n",
      "313/313 [==============================] - 4s 13ms/step - loss: 0.2545 - accuracy: 0.8933 - val_loss: 0.4045 - val_accuracy: 0.8330\n",
      "Epoch 92/120\n",
      "313/313 [==============================] - 4s 13ms/step - loss: 0.2494 - accuracy: 0.8942 - val_loss: 0.4229 - val_accuracy: 0.8320\n",
      "Epoch 93/120\n",
      "313/313 [==============================] - 4s 13ms/step - loss: 0.2444 - accuracy: 0.8963 - val_loss: 0.4340 - val_accuracy: 0.8230\n",
      "Epoch 94/120\n",
      "313/313 [==============================] - 4s 13ms/step - loss: 0.2463 - accuracy: 0.8971 - val_loss: 0.4798 - val_accuracy: 0.8130\n",
      "Epoch 95/120\n",
      "313/313 [==============================] - 4s 13ms/step - loss: 0.2421 - accuracy: 0.9005 - val_loss: 0.4337 - val_accuracy: 0.8370\n",
      "Epoch 96/120\n",
      "313/313 [==============================] - 4s 13ms/step - loss: 0.2424 - accuracy: 0.8992 - val_loss: 0.4269 - val_accuracy: 0.8360\n",
      "Epoch 97/120\n",
      "313/313 [==============================] - 4s 13ms/step - loss: 0.2430 - accuracy: 0.8989 - val_loss: 0.4085 - val_accuracy: 0.8380\n",
      "Epoch 98/120\n",
      "313/313 [==============================] - 4s 13ms/step - loss: 0.2377 - accuracy: 0.9024 - val_loss: 0.4223 - val_accuracy: 0.8240\n",
      "Epoch 99/120\n",
      "313/313 [==============================] - 4s 14ms/step - loss: 0.2369 - accuracy: 0.8999 - val_loss: 0.4369 - val_accuracy: 0.8310\n",
      "Epoch 100/120\n",
      "313/313 [==============================] - 4s 13ms/step - loss: 0.2352 - accuracy: 0.9009 - val_loss: 0.4446 - val_accuracy: 0.8230\n",
      "Epoch 101/120\n",
      "313/313 [==============================] - 4s 13ms/step - loss: 0.2356 - accuracy: 0.9012 - val_loss: 0.4337 - val_accuracy: 0.8260\n",
      "Epoch 102/120\n",
      "313/313 [==============================] - 4s 12ms/step - loss: 0.2350 - accuracy: 0.9027 - val_loss: 0.4349 - val_accuracy: 0.8250\n",
      "Epoch 103/120\n",
      "313/313 [==============================] - 4s 13ms/step - loss: 0.2270 - accuracy: 0.9075 - val_loss: 0.4352 - val_accuracy: 0.8210\n",
      "Epoch 104/120\n",
      "313/313 [==============================] - 4s 13ms/step - loss: 0.2320 - accuracy: 0.9038 - val_loss: 0.4889 - val_accuracy: 0.8330\n",
      "Epoch 105/120\n",
      "313/313 [==============================] - 4s 12ms/step - loss: 0.2297 - accuracy: 0.9039 - val_loss: 0.4688 - val_accuracy: 0.8260\n",
      "Epoch 106/120\n",
      "313/313 [==============================] - 4s 13ms/step - loss: 0.2277 - accuracy: 0.9062 - val_loss: 0.4735 - val_accuracy: 0.8290\n",
      "Epoch 107/120\n",
      "313/313 [==============================] - 4s 12ms/step - loss: 0.2217 - accuracy: 0.9082 - val_loss: 0.4652 - val_accuracy: 0.8180\n",
      "Epoch 108/120\n",
      "313/313 [==============================] - 4s 12ms/step - loss: 0.2295 - accuracy: 0.9037 - val_loss: 0.4737 - val_accuracy: 0.8220\n",
      "Epoch 109/120\n",
      "313/313 [==============================] - 4s 13ms/step - loss: 0.2310 - accuracy: 0.9045 - val_loss: 0.4799 - val_accuracy: 0.8260\n",
      "Epoch 110/120\n",
      "313/313 [==============================] - 4s 14ms/step - loss: 0.2194 - accuracy: 0.9110 - val_loss: 0.4976 - val_accuracy: 0.8160\n",
      "Epoch 111/120\n",
      "313/313 [==============================] - 4s 13ms/step - loss: 0.2190 - accuracy: 0.9100 - val_loss: 0.4789 - val_accuracy: 0.8180\n",
      "Epoch 112/120\n",
      "313/313 [==============================] - 5s 15ms/step - loss: 0.2193 - accuracy: 0.9107 - val_loss: 0.4943 - val_accuracy: 0.8250\n",
      "Epoch 113/120\n"
     ]
    },
    {
     "name": "stdout",
     "output_type": "stream",
     "text": [
      "313/313 [==============================] - 5s 15ms/step - loss: 0.2188 - accuracy: 0.9079 - val_loss: 0.4829 - val_accuracy: 0.8340\n",
      "Epoch 114/120\n",
      "313/313 [==============================] - 5s 15ms/step - loss: 0.2227 - accuracy: 0.9066 - val_loss: 0.4878 - val_accuracy: 0.8200\n",
      "Epoch 115/120\n",
      "313/313 [==============================] - 4s 14ms/step - loss: 0.2134 - accuracy: 0.9086 - val_loss: 0.4823 - val_accuracy: 0.8310\n",
      "Epoch 116/120\n",
      "313/313 [==============================] - 4s 14ms/step - loss: 0.2179 - accuracy: 0.9099 - val_loss: 0.5029 - val_accuracy: 0.8270\n",
      "Epoch 117/120\n",
      "313/313 [==============================] - 4s 13ms/step - loss: 0.2081 - accuracy: 0.9131 - val_loss: 0.5268 - val_accuracy: 0.8240\n",
      "Epoch 118/120\n",
      "313/313 [==============================] - 4s 13ms/step - loss: 0.2147 - accuracy: 0.9107 - val_loss: 0.4991 - val_accuracy: 0.8340\n",
      "Epoch 119/120\n",
      "313/313 [==============================] - 4s 12ms/step - loss: 0.2142 - accuracy: 0.9099 - val_loss: 0.4887 - val_accuracy: 0.8340\n",
      "Epoch 120/120\n",
      "313/313 [==============================] - 4s 14ms/step - loss: 0.2078 - accuracy: 0.9143 - val_loss: 0.4651 - val_accuracy: 0.8300\n"
     ]
    }
   ],
   "source": [
    "# train\n",
    "history = model.fit([inputs_train, queries_train], answers_train,batch_size=32,epochs=120,validation_data=([inputs_test, queries_test], answers_test))"
   ]
  },
  {
   "cell_type": "markdown",
   "metadata": {},
   "source": [
    "### Saving the Model"
   ]
  },
  {
   "cell_type": "code",
   "execution_count": 62,
   "metadata": {},
   "outputs": [],
   "source": [
    "filename = 'chatbot_120_epochs.h5'\n",
    "model.save(filename)"
   ]
  },
  {
   "cell_type": "markdown",
   "metadata": {},
   "source": [
    "## Evaluating the Model\n",
    "\n",
    "### PlottingTraining History"
   ]
  },
  {
   "cell_type": "code",
   "execution_count": 65,
   "metadata": {},
   "outputs": [
    {
     "name": "stdout",
     "output_type": "stream",
     "text": [
      "dict_keys(['loss', 'accuracy', 'val_loss', 'val_accuracy'])\n"
     ]
    },
    {
     "data": {
      "image/png": "[encoded data removed]",
      "text/plain": [
       "<Figure size 432x288 with 1 Axes>"
      ]
     },
     "metadata": {
      "needs_background": "light"
     },
     "output_type": "display_data"
    }
   ],
   "source": [
    "import matplotlib.pyplot as plt\n",
    "%matplotlib inline\n",
    "print(history.history.keys())\n",
    "# summarize history for accuracy\n",
    "plt.plot(history.history['accuracy'])\n",
    "plt.plot(history.history['val_accuracy'])\n",
    "plt.title('model accuracy')\n",
    "plt.ylabel('accuracy')\n",
    "plt.xlabel('epoch')\n",
    "plt.legend(['train', 'test'], loc='upper left')\n",
    "plt.show()"
   ]
  },
  {
   "cell_type": "markdown",
   "metadata": {},
   "source": [
    "### Evaluating onTest Set"
   ]
  },
  {
   "cell_type": "code",
   "execution_count": 66,
   "metadata": {},
   "outputs": [],
   "source": [
    "model.load_weights(filename)\n",
    "pred_results = model.predict(([inputs_test, queries_test]))"
   ]
  },
  {
   "cell_type": "code",
   "execution_count": 67,
   "metadata": {},
   "outputs": [
    {
     "data": {
      "text/plain": [
       "['Mary',\n",
       " 'got',\n",
       " 'the',\n",
       " 'milk',\n",
       " 'there',\n",
       " '.',\n",
       " 'John',\n",
       " 'moved',\n",
       " 'to',\n",
       " 'the',\n",
       " 'bedroom',\n",
       " '.']"
      ]
     },
     "execution_count": 67,
     "metadata": {},
     "output_type": "execute_result"
    }
   ],
   "source": [
    "test_data[0][0]"
   ]
  },
  {
   "cell_type": "code",
   "execution_count": 68,
   "metadata": {},
   "outputs": [
    {
     "name": "stdout",
     "output_type": "stream",
     "text": [
      "Mary got the milk there . John moved to the bedroom .\n"
     ]
    }
   ],
   "source": [
    "story =' '.join(word for word in test_data[0][0])\n",
    "print(story)"
   ]
  },
  {
   "cell_type": "code",
   "execution_count": 69,
   "metadata": {},
   "outputs": [
    {
     "name": "stdout",
     "output_type": "stream",
     "text": [
      "Is John in the kitchen ?\n"
     ]
    }
   ],
   "source": [
    "query = ' '.join(word for word in test_data[0][1])\n",
    "print(query)"
   ]
  },
  {
   "cell_type": "code",
   "execution_count": 70,
   "metadata": {},
   "outputs": [
    {
     "name": "stdout",
     "output_type": "stream",
     "text": [
      "True Test Answer from Data is: no\n"
     ]
    }
   ],
   "source": [
    "print(\"True Test Answer from Data is:\",test_data[0][2])"
   ]
  },
  {
   "cell_type": "code",
   "execution_count": 71,
   "metadata": {},
   "outputs": [
    {
     "name": "stdout",
     "output_type": "stream",
     "text": [
      "Predicted answer is:  no\n",
      "Probability of certainty was:  0.99999905\n"
     ]
    }
   ],
   "source": [
    "#Generate prediction from model\n",
    "val_max = np.argmax(pred_results[0])\n",
    "\n",
    "for key, val in tokenizer.word_index.items():\n",
    "    if val == val_max:\n",
    "        k = key\n",
    "\n",
    "print(\"Predicted answer is: \", k)\n",
    "print(\"Probability of certainty was: \", pred_results[0][val_max])"
   ]
  }
 ],
 "metadata": {
  "kernelspec": {
   "display_name": "Python 3 (ipykernel)",
   "language": "python",
   "name": "python3"
  },
  "language_info": {
   "codemirror_mode": {
    "name": "ipython",
    "version": 3
   },
   "file_extension": ".py",
   "mimetype": "text/x-python",
   "name": "python",
   "nbconvert_exporter": "python",
   "pygments_lexer": "ipython3",
   "version": "3.9.6"
  }
 },
 "nbformat": 4,
 "nbformat_minor": 2
}
